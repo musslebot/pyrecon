{
 "cells": [
  {
   "cell_type": "code",
   "execution_count": 1,
   "metadata": {},
   "outputs": [],
   "source": [
    "SERIES_LOCATION = '/home/musslebot/Documents/SERTEST/'\n",
    "SECTION_NUMBER = 64"
   ]
  },
  {
   "cell_type": "code",
   "execution_count": 2,
   "metadata": {},
   "outputs": [],
   "source": [
    "import os\n",
    "import sys\n",
    "\n",
    "import numpy\n",
    "from PyQt5 import QtCore, QtGui, QtWidgets\n",
    "from skimage import io\n",
    "from skimage.transform import warp\n",
    "\n",
    "from pyrecon.tools.reconstruct_reader import process_series_directory\n",
    "\n",
    "app = QtWidgets.QApplication(sys.argv)"
   ]
  },
  {
   "cell_type": "code",
   "execution_count": 3,
   "metadata": {},
   "outputs": [],
   "source": [
    "# Load XML files into Python\n",
    "series = process_series_directory(SERIES_LOCATION)\n",
    "section = series.sections[SECTION_NUMBER]\n",
    "image = section.images[0]\n",
    "image_path = os.path.join(SERIES_LOCATION, image.src)\n",
    "image_transform = image.transform._tform\n",
    "contour = section.contours[0]"
   ]
  },
  {
   "cell_type": "code",
   "execution_count": 4,
   "metadata": {},
   "outputs": [],
   "source": [
    "# Load image into memory\n",
    "img = io.imread(image_path, as_grey=True)\n",
    "t_img = warp(img, image_transform)\n",
    "t_img = (t_img * 255).round().astype('uint8')\n",
    "l, w = len(t_img), len(t_img[0])\n",
    "qimage = QtGui.QImage(t_img.tobytes(), l, w, QtGui.QImage.Format_Grayscale8)\n",
    "pixmap = QtGui.QPixmap(qimage)"
   ]
  },
  {
   "cell_type": "code",
   "execution_count": 7,
   "metadata": {},
   "outputs": [],
   "source": [
    "# Transform contour\n",
    "# - Scale contour by image mag\n",
    "contour.points = list(map(tuple, numpy.asarray(contour.points)/image.mag))\n",
    "# - Apply transform to contour\n",
    "contour.points = list(map(tuple, \n",
    "    contour.transform._tform.inverse(numpy.asarray(contour.points))\n",
    "))\n",
    "\n",
    "translation_vector = numpy.array([0, pixmap.size().height()])\n",
    "flip_vector = numpy.array([1, -1])\n",
    "contour.points = list(map(tuple, \n",
    "    translation_vector + (numpy.array(list(contour.shape.exterior.coords))*flip_vector)\n",
    "))"
   ]
  },
  {
   "cell_type": "code",
   "execution_count": 8,
   "metadata": {},
   "outputs": [
    {
     "data": {
      "text/plain": [
       "True"
      ]
     },
     "execution_count": 8,
     "metadata": {},
     "output_type": "execute_result"
    }
   ],
   "source": [
    "# Draw polygon\n",
    "polygon = QtGui.QPolygon()\n",
    "for p in contour.points:\n",
    "    polygon.append(QtCore.QPoint(*p))\n",
    "painter = QtGui.QPainter()\n",
    "painter.begin(pixmap)\n",
    "pen = QtGui.QPen()\n",
    "pen.setColor(QtGui.QColor('red'))\n",
    "pen.setWidth(15)\n",
    "painter.setPen(pen)\n",
    "painter.drawConvexPolygon(polygon)\n",
    "painter.end()"
   ]
  },
  {
   "cell_type": "code",
   "execution_count": 9,
   "metadata": {},
   "outputs": [],
   "source": [
    "# Crop image\n",
    "minx, miny, maxx, maxy = contour.shape.bounds\n",
    "x = minx - 200\n",
    "y = miny - 200\n",
    "width = maxx - x + 300\n",
    "height = maxy - y + 300\n",
    "rect = [x, y, width, height]\n",
    "pixmap = pixmap.copy(*rect)\n",
    "pixmap = pixmap.scaled(500, 500, QtCore.Qt.KeepAspectRatio)\n",
    "label = QtWidgets.QLabel()\n",
    "label.setPixmap(pixmap)\n",
    "label.show()"
   ]
  },
  {
   "cell_type": "code",
   "execution_count": 10,
   "metadata": {},
   "outputs": [],
   "source": [
    "from IPython.display import Image\n",
    "Image(img)"
   ]
  }
 ],
 "metadata": {
  "kernelspec": {
   "display_name": "Python 3",
   "language": "python",
   "name": "python3"
  },
  "language_info": {
   "codemirror_mode": {
    "name": "ipython",
    "version": 3
   },
   "file_extension": ".py",
   "mimetype": "text/x-python",
   "name": "python",
   "nbconvert_exporter": "python",
   "pygments_lexer": "ipython3",
   "version": "3.6.3"
  }
 },
 "nbformat": 4,
 "nbformat_minor": 2
}
